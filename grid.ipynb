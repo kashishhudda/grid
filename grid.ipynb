{
  "nbformat": 4,
  "nbformat_minor": 0,
  "metadata": {
    "colab": {
      "provenance": []
    },
    "kernelspec": {
      "name": "python3",
      "display_name": "Python 3"
    },
    "language_info": {
      "name": "python"
    }
  },
  "cells": [
    {
      "cell_type": "markdown",
      "source": [
        "1. Create an image gallery using a CSS grid"
      ],
      "metadata": {
        "id": "QmaE5XKrlad5"
      }
    },
    {
      "cell_type": "code",
      "source": [
        "< !DOCTYPE html>\n",
        "< html lang=\"en\">\n",
        "< head>\n",
        "    < meta charset=\"UTF-8\">\n",
        "    < meta name=\"viewport\" content=\"width=device-width, initial-scale=1.0\">\n",
        "    < title>grid< /title>\n",
        "    < link rel=\"stylesheet\" href=\"style.css\">\n",
        "< /head>\n",
        "< body>\n",
        "    < div class=\"gallery\">\n",
        "  < img src=\"img1.jpg\" alt=\"bookshelf\">\n",
        "  < img src=\"img1.jpg\" alt=\"bookshelf\">\n",
        "  < img src=\"img1.jpg\" alt=\"bookshelf\">\n",
        "  < img src=\"img1.jpg\" alt=\"bookshelf\">\n",
        "  < img src=\"img1.jpg\" alt=\"bookshelf\">\n",
        "  < img src=\"img1.jpg\" alt=\"bookshelf\">\n",
        "< /div>\n",
        "\n",
        "< /body>\n",
        "< /html>\n",
        "\n",
        "\"\"\"External css\"\"\"\n",
        ".gallery {\n",
        "  display: grid;\n",
        "  grid-template-columns: repeat(auto-fill, minmax(200px, 1fr));\n",
        "  grid-gap: 10px;\n",
        "}\n",
        ".gallery img {\n",
        "  width: 100%;\n",
        "  height: auto;\n",
        "  border-radius: 8px;\n",
        "}\n"
      ],
      "metadata": {
        "id": "cTUFQEMMldQk"
      },
      "execution_count": null,
      "outputs": []
    },
    {
      "cell_type": "markdown",
      "source": [
        "2. Write code to arrange containers with texts A, B, C, and D as shown in the below image."
      ],
      "metadata": {
        "id": "ITAO3jWgmmOA"
      }
    },
    {
      "cell_type": "code",
      "execution_count": null,
      "metadata": {
        "id": "fXBxvSA1lVYx"
      },
      "outputs": [],
      "source": [
        "< !DOCTYPE html>\n",
        "< html lang=\"en\">\n",
        "< head>\n",
        "    < meta charset=\"UTF-8\">\n",
        "    < meta name=\"viewport\" content=\"width=device-width, initial-scale=1.0\">\n",
        "    < title>containers</title>\n",
        "    < link rel=\"stylesheet\" href=\"style.css\">\n",
        "< /head>\n",
        "< body>\n",
        "  < div class=\"grid\">\n",
        "  < div class=\"box a\">A< /div>\n",
        "  < div class=\"box b\">B< /div>\n",
        "  < div class=\"box c\">C< /div>\n",
        "  < div class=\"box d\">D< /div>\n",
        "< /div>\n",
        "< /body>\n",
        "< /html>\n",
        "\n",
        "\"\"\"External CSS\"\"\"\n",
        ".grid {\n",
        "  display: grid;\n",
        "  grid-template-areas:\n",
        "    \"a b\"\n",
        "    \"a c\"\n",
        "    \"d d\";\n",
        "  grid-template-columns: 1fr 1fr;\n",
        "  grid-gap: 10px;\n",
        "}\n",
        "\n",
        ".a { grid-area: a; background: lightcoral; }\n",
        ".b { grid-area: b; background: lightblue; }\n",
        ".c { grid-area: c; background: lightgreen; }\n",
        ".d { grid-area: d; background: lightyellow; }\n"
      ]
    },
    {
      "cell_type": "markdown",
      "source": [
        "3. Explain the use of grid-auto-row and grid-auto-column using code examples."
      ],
      "metadata": {
        "id": "IKlgNE19mrUL"
      }
    },
    {
      "cell_type": "code",
      "source": [
        "< !DOCTYPE html>\n",
        "< html lang=\"en\">\n",
        "< head>\n",
        "    < meta charset=\"UTF-8\">\n",
        "    < meta name=\"viewport\" content=\"width=device-width, initial-scale=1.0\">\n",
        "    < title>grid< /title>\n",
        "    < link rel=\"stylesheet\" href=\"style.css\">\n",
        "< /head>\n",
        "< body>\n",
        " < div class=\"container\">\n",
        "  < div class=\"item\">1</ div>\n",
        "  < div class=\"item\">2</ div>\n",
        "  < div class=\"item\">3</ div>\n",
        "  < div class=\"item\">4</ div>\n",
        "  < div class=\"item\">5</ div>\n",
        "< /div>\n",
        "< /body>\n",
        "< /html>\n",
        "\n",
        "\"\"\"External CSS\"\"\"\n",
        ".container {\n",
        "  display: grid;\n",
        "  grid-template-columns: 200px 200px;\n",
        "  grid-auto-rows: 100px; /* extra rows will be 100px high */\n",
        "  grid-auto-columns: 150px; /* extra cols will be 150px wide */\n",
        "}\n",
        ".item {\n",
        "  background: lightblue;\n",
        "  border: 1px solid #333;\n",
        "}\n"
      ],
      "metadata": {
        "id": "at_i9qyvmuPc"
      },
      "execution_count": null,
      "outputs": []
    },
    {
      "cell_type": "markdown",
      "source": [
        "4. Write CSS to show numbers as shown in the figure, without altering the below html code"
      ],
      "metadata": {
        "id": "TV8F-CsZnh17"
      }
    },
    {
      "cell_type": "code",
      "source": [
        "< !DOCTYPE html>\n",
        "< html lang=\"en\">\n",
        "< head>\n",
        "  < meta charset=\"UTF-8\">\n",
        "  < meta name=\"viewport\" content=\"width=device-width, initial-scale=1.0\">\n",
        "  < title>Task 4 - Grid Layout< /title>\n",
        "  < link rel=\"stylesheet\" href=\"style.css\">\n",
        "< /head>\n",
        "< body>\n",
        "\n",
        "  < div class=\"container\">\n",
        "    < div class=\"box box1\">1< /div>\n",
        "    < div class=\"box box2\">2< /div>\n",
        "    < div class=\"box box3\">3< /div>\n",
        "    < div class=\"box box4\">4< /div>\n",
        "    < div class=\"box box5\">5< /div>\n",
        "    < div class=\"box box6\">6< /div>\n",
        "    < div class=\"box box7\">7< /div>\n",
        "    < div class=\"box box8\">8< /div>\n",
        "  < /div>\n",
        "\n",
        "< /body>\n",
        "< /html>\n",
        "\n",
        "\"\"\"External CSS\"\"\"\n",
        ".container {\n",
        "  display: grid;\n",
        "  grid-template-columns: repeat(6, 1fr); /* 6 equal columns */\n",
        "  gap: 10px;\n",
        "  width: 80%;\n",
        "  margin: 40px auto;\n",
        "}\n",
        "\n",
        "/* common style for boxes */\n",
        ".box {\n",
        "  background: #ccc;\n",
        "  border: 2px solid #333;\n",
        "  display: flex;\n",
        "  justify-content: center;\n",
        "  align-items: center;\n",
        "  font-size: 20px;\n",
        "  font-weight: bold;\n",
        "  height: 80px;\n",
        "  border-radius: 6px;\n",
        "}\n",
        "\n",
        "/* Top row (3 to 8) */\n",
        ".box3 { grid-column: 1; grid-row: 1; background: #444; color: white; }\n",
        ".box4 { grid-column: 2; grid-row: 1; }\n",
        ".box5 { grid-column: 3; grid-row: 1; background: #444; color: white; }\n",
        ".box6 { grid-column: 4; grid-row: 1; }\n",
        ".box7 { grid-column: 5; grid-row: 1; background: #444; color: white; }\n",
        ".box8 { grid-column: 6; grid-row: 1; }\n",
        "\n",
        "/* Bottom row (1, 2) */\n",
        ".box1 { grid-column: 1; grid-row: 2; background: #444; color: white; }\n",
        ".box2 { grid-column: 2; grid-row: 2; }\n"
      ],
      "metadata": {
        "id": "1mE1KDaRni_v"
      },
      "execution_count": null,
      "outputs": []
    },
    {
      "cell_type": "markdown",
      "source": [
        "5. Explain the difference between justify-items and justify-self using code examples."
      ],
      "metadata": {
        "id": "BmGvTvIuqKOj"
      }
    },
    {
      "cell_type": "code",
      "source": [
        "< !DOCTYPE html>\n",
        "< html lang=\"en\">\n",
        "< head>\n",
        "  < meta charset=\"UTF-8\">\n",
        "  < meta name=\"viewport\" content=\"width=device-width, initial-scale=1.0\">\n",
        "  < title>Task 5 - Justify Items vs Justify Self< /title>\n",
        "  < link rel=\"stylesheet\" href=\"style.css\">\n",
        "< /head>\n",
        "< body>\n",
        "\n",
        "  < h2>justify-items Example< /h2>\n",
        "  < div class=\"container example1\">\n",
        "    < div class=\"item\">One< /div>\n",
        "    < div class=\"item\">Two< /div>\n",
        "    < div class=\"item\">Three< /div>\n",
        "  < /div>\n",
        "\n",
        "  < h2>justify-self Example< /h2>\n",
        "  < div class=\"container example2\">\n",
        "    < div class=\"item\">One< /div>\n",
        "    < div class=\"item special\">Two (self-end)< /div>\n",
        "    < div class=\"item\">Three< /div>\n",
        "  < /div>\n",
        "\n",
        "< /body>\n",
        "< /html>\n",
        "\n",
        "\"\"\"External CSS\"\"\"\n",
        "body {\n",
        "  font-family: Arial, sans-serif;\n",
        "  padding: 20px;\n",
        "}\n",
        "\n",
        "/* Common grid setup */\n",
        ".container {\n",
        "  display: grid;\n",
        "  grid-template-columns: repeat(3, 100px);\n",
        "  background: #f0f0f0;\n",
        "  gap: 10px;\n",
        "  padding: 10px;\n",
        "  margin-bottom: 30px;\n",
        "}\n",
        "\n",
        "/* Common style for items */\n",
        ".item {\n",
        "  background: lightblue;\n",
        "  border: 2px solid #333;\n",
        "  height: 60px;\n",
        "  display: flex;\n",
        "  justify-content: center;\n",
        "  align-items: center;\n",
        "  font-weight: bold;\n",
        "  border-radius: 6px;\n",
        "}\n",
        "\n",
        "/* Example 1 - justify-items */\n",
        ".example1 {\n",
        "  justify-items: center; /* all items centered horizontally in their grid cells */\n",
        "}\n",
        "\n",
        "/* Example 2 - justify-self */\n",
        ".example2 {\n",
        "  justify-items: start; /* default for all items */\n",
        "}\n",
        "\n",
        ".example2 .special {\n",
        "  justify-self: end; /* only this item moves to the right inside its grid cell */\n",
        "  background: lightcoral;\n",
        "  color: white;\n",
        "}\n"
      ],
      "metadata": {
        "id": "RP3Fy8PKqOz3"
      },
      "execution_count": null,
      "outputs": []
    }
  ]
}